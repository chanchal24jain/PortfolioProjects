{
  "nbformat": 4,
  "nbformat_minor": 0,
  "metadata": {
    "colab": {
      "provenance": []
    },
    "kernelspec": {
      "name": "python3",
      "display_name": "Python 3"
    },
    "language_info": {
      "name": "python"
    }
  },
  "cells": [
    {
      "cell_type": "markdown",
      "source": [
        "**BMI Calculator**"
      ],
      "metadata": {
        "id": "n4z9gA-a4Ekc"
      }
    },
    {
      "cell_type": "code",
      "source": [
        "# BMI Calculator\n",
        "\n",
        "# Input user's name\n",
        "name = input(\"Enter your Name: \")\n",
        "\n",
        "# Input user's weight in pounds\n",
        "weight = input(\"Enter your Weight in Pounds: \")\n",
        "weight = int(weight)\n",
        "\n",
        "# Input user's height in inches\n",
        "height = input(\"Enter your Height in Inches: \")\n",
        "height = int(height)\n",
        "\n",
        "# Calculate BMI using the formula: BMI = (weight * 703) / (height * height)\n",
        "BMI = (weight * 703) / (height * height)\n",
        "\n",
        "# Print the calculated BMI\n",
        "print(name + \", your BMI is \" + str(round(BMI, 2)))\n",
        "\n",
        "# Determine BMI category and associated health risk\n",
        "if BMI > 0:\n",
        "    if BMI < 18.5:\n",
        "        print(name + \", you are 'Underweight' and at 'Minimal Risk'\")\n",
        "    elif BMI <= 24.9:\n",
        "        print(name + \", you are 'Normal Weight' and at 'Minimal Risk'\")\n",
        "    elif BMI <= 29.9:\n",
        "        print(name + \", you are 'Overweight' at 'Increased Risk'\")\n",
        "    elif BMI <= 34.9:\n",
        "        print(name + \", you are 'Obese' and at 'High Risk'\")\n",
        "    elif BMI <= 39.9:\n",
        "        print(name + \", you are 'Severely Obese' and at 'Very High Risk'\")\n",
        "    else:\n",
        "        print(name + \", you are 'Morbidly Obese' and at 'Extremely High Risk'\")\n",
        "else:\n",
        "    # Print message for invalid input\n",
        "    print(\"Enter valid input.\")"
      ],
      "metadata": {
        "colab": {
          "base_uri": "https://localhost:8080/"
        },
        "id": "CpeKkMtkZx5a",
        "outputId": "f6c33e87-03f1-4a6d-c0aa-8f8525fc0721"
      },
      "execution_count": 16,
      "outputs": [
        {
          "output_type": "stream",
          "name": "stdout",
          "text": [
            "Enter your Name: Shyam\n",
            "Enter your Weight in Pounds: 250\n",
            "Enter your Height in Inches: 90\n",
            "Shyam, your BMI is 21.7\n",
            "Shyam, you are 'Normal Weight' and at 'Minimal Risk'\n"
          ]
        }
      ]
    },
    {
      "cell_type": "code",
      "source": [],
      "metadata": {
        "id": "fejH-qqtfUi9"
      },
      "execution_count": 14,
      "outputs": []
    }
  ]
}